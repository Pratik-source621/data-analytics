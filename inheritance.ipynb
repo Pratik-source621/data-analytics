{
 "cells": [
  {
   "cell_type": "code",
   "execution_count": 1,
   "metadata": {},
   "outputs": [
    {
     "name": "stdout",
     "output_type": "stream",
     "text": [
      "class B run\n",
      "class B function fun2 run\n",
      "class A function fun1 run\n"
     ]
    }
   ],
   "source": [
    "class A:\n",
    "    def __init__(self):\n",
    "        print(\"class A run\")\n",
    "        \n",
    "    def fun1(self):\n",
    "            print(\"class A function fun1 run\")\n",
    "            \n",
    "            \n",
    "            \n",
    "class B(A):\n",
    "    def __init__(self):\n",
    "        print(\"class B run\")\n",
    "                \n",
    "    def fun2(self):\n",
    "        print(\"class B function fun2 run\")\n",
    "                    \n",
    "                    \n",
    "obj2 = B()\n",
    "obj2.fun2()\n",
    "obj2.fun1()"
   ]
  },
  {
   "cell_type": "code",
   "execution_count": null,
   "metadata": {},
   "outputs": [],
   "source": []
  }
 ],
 "metadata": {
  "kernelspec": {
   "display_name": "Python 3",
   "language": "python",
   "name": "python3"
  },
  "language_info": {
   "codemirror_mode": {
    "name": "ipython",
    "version": 3
   },
   "file_extension": ".py",
   "mimetype": "text/x-python",
   "name": "python",
   "nbconvert_exporter": "python",
   "pygments_lexer": "ipython3",
   "version": "3.7.0"
  }
 },
 "nbformat": 4,
 "nbformat_minor": 2
}
